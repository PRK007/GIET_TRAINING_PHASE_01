{
 "cells": [
  {
   "cell_type": "code",
   "execution_count": 33,
   "id": "a89a7c38",
   "metadata": {},
   "outputs": [
    {
     "name": "stdout",
     "output_type": "stream",
     "text": [
      "[[1, 8, 9, 64], [25, 216, 49, 512], [81, 1000, 121, 1728], [169, 2744, 225, 4096]]\n"
     ]
    }
   ],
   "source": [
    "#List Comprehension    pro 13\n",
    "mat=[[1,2,3,4],[5,6,7,8],[9,10,11,12],[13,14,15,16]]\n",
    "# for i in range(len(mat)):\n",
    "#     for j in range(len(mat[i])):\n",
    "#         if mat[i][j]%2==0:\n",
    "#             mat[i][j]=mat[i][j]**3\n",
    "\n",
    "#         else:\n",
    "#             mat[i][j]=mat[i][j]**2\n",
    "# print(mat)\n",
    "print([[j**3 if j%2==0 else j**2 for j in i]for i in mat])\n"
   ]
  },
  {
   "cell_type": "code",
   "execution_count": 34,
   "id": "f7f1fe31",
   "metadata": {},
   "outputs": [
    {
     "name": "stdout",
     "output_type": "stream",
     "text": [
      "[1, 8, 27, 64, 125, 216, 343, 512, 729, 1000, 1331, 1728, 2197, 2744, 3375, 4096]\n"
     ]
    }
   ],
   "source": [
    "mat=[[1,2,3,4],[5,6,7,8],[9,10,11,12],[13,14,15,16]]\n",
    "# l=[]      ---> pro 13\n",
    "# for i in range(len(mat)):\n",
    "#     for j in range(len(mat[0])):\n",
    "#         if mat[i][j]%2==0:\n",
    "#             l.append(mat[i][j]**3)\n",
    "\n",
    "#         else:\n",
    "#             l.append(mat[i][j]**2)\n",
    "# print(l)\n",
    "print([mat[i][j]**3 if mat[i][j]%2==0 else mat[i][j]**3 for i in range(len(mat)) for j in range(len(mat[0]))])"
   ]
  },
  {
   "cell_type": "code",
   "execution_count": 51,
   "id": "8e89adc1",
   "metadata": {},
   "outputs": [
    {
     "name": "stdout",
     "output_type": "stream",
     "text": [
      "[(6, 2), (4, 8), (6, 2), (1, 3), (2, 7), (2, 7)]\n",
      "[(6, 2), (4, 8), (6, 2), (1, 3), (2, 7), (2, 7)]\n",
      "{6: 2, 4: 8, 1: 3, 2: 7}\n",
      "{6: 2, 4: 8, 1: 3, 2: 7}\n"
     ]
    }
   ],
   "source": [
    "# pro 14\n",
    "mylist=[9,3,6,1,5,0,8,2,4,7]\n",
    "listb=[6,4,6,1,2,2]\n",
    "res=[]\n",
    "for i in listb:\n",
    "    \n",
    "        res.append((i,mylist.index(i)))\n",
    "print(res)    \n",
    "\n",
    "print([(i,mylist.index(i)) for i in listb ])\n",
    "\n",
    "\n",
    "dict1={}\n",
    "for i in listb:\n",
    "    \n",
    "        dict1[i]=mylist.index(i)\n",
    "print(dict1)\n",
    "\n",
    "print({i:mylist.index(i) for i in listb})\n"
   ]
  },
  {
   "cell_type": "markdown",
   "id": "12300bfa",
   "metadata": {},
   "source": [
    "\n"
   ]
  },
  {
   "cell_type": "code",
   "execution_count": 32,
   "id": "ef9c164f",
   "metadata": {},
   "outputs": [
    {
     "name": "stdout",
     "output_type": "stream",
     "text": [
      "in the city of ayodhya\n",
      "['the', 'city', 'ayodhya']\n"
     ]
    }
   ],
   "source": [
    "# pro 15\n",
    "\n",
    "stopwords=['for','a','of','the','and','to','in','on','with']\n",
    "s=input()\n",
    "l=s.split()\n",
    "for i in l:\n",
    "    if i in stopwords:\n",
    "        l.remove(i)\n",
    "    else:\n",
    "        pass\n",
    "print(l)        \n",
    "            \n",
    "\n",
    "\n",
    "\n",
    "\n"
   ]
  },
  {
   "cell_type": "code",
   "execution_count": null,
   "id": "65dce278",
   "metadata": {},
   "outputs": [],
   "source": [
    "#pro 16\n",
    "str1=input()\n",
    "l=[]\n",
    "for i in str1:\n",
    "    l.append(i)\n",
    "#print(l)    \n",
    "for i in l:\n",
    "    if i==\" \":\n",
    "        print(\" \",end=' ')\n",
    "    elif i.islower():\n",
    "        print(ord(i)-96,end=\" \")\n",
    "    else:\n",
    "        print(ord(i)-64,end=' ')"
   ]
  },
  {
   "cell_type": "code",
   "execution_count": 7,
   "id": "c3ff7f36",
   "metadata": {},
   "outputs": [
    {
     "name": "stdout",
     "output_type": "stream",
     "text": [
      "10\n",
      "66\n"
     ]
    }
   ],
   "source": [
    "# pro 17 \n",
    "def isprime(i):\n",
    "    for k in range(2,i-1):\n",
    "        if i%k==0:\n",
    "            return False\n",
    "\n",
    "    return True\n",
    "\n",
    "def func(n):\n",
    "    for i in range(n,1,-1):\n",
    "        if ( isprime(i) and n%i==0):\n",
    "            return i\n",
    "        \n",
    "    \n",
    "s=0\n",
    "n=int(input())\n",
    "for p in range(n,n+9):\n",
    "    s+=func(p)\n",
    "print(s)        \n",
    "        "
   ]
  },
  {
   "cell_type": "code",
   "execution_count": 31,
   "id": "66d02b3a",
   "metadata": {
    "scrolled": false
   },
   "outputs": [
    {
     "name": "stdout",
     "output_type": "stream",
     "text": [
      "['----', '----', '----', '----', '----', '----', '----', '----', '----', (1, 1), (2, 1), (3, 1), (4, 1), (5, 1), (6, 1), '----', '----', (1, 2), (2, 2), (3, 2), (4, 2), (5, 2), (6, 2), '----', '----', (1, 3), (2, 3), (3, 3), (4, 3), (5, 3), (6, 3), '----', '----', (1, 4), (2, 4), (3, 4), (4, 4), (5, 4), (6, 4), '----', '----', (1, 5), (2, 5), (3, 5), (4, 5), (5, 5), (6, 5), '----', '----', (1, 6), (2, 6), (3, 6), (4, 6), (5, 6), (6, 6), '----', '----', '----', '----', '----', '----', '----', '----', '----']\n"
     ]
    }
   ],
   "source": [
    "# print the inner positions of the 6 boundazry squares with the string '----' (extra)\n",
    "res=[]\n",
    "for i in range(8):\n",
    "    for j in range(8):\n",
    "        \n",
    "        if i==0 or i==7 or j==0 or j==7 :\n",
    "            res.append('----')\n",
    "            \n",
    "        else:\n",
    "            res.append((j,i))\n",
    "           \n",
    "    \n",
    "    \n",
    "print(res)        "
   ]
  },
  {
   "cell_type": "code",
   "execution_count": null,
   "id": "78d96a57",
   "metadata": {},
   "outputs": [],
   "source": []
  },
  {
   "cell_type": "code",
   "execution_count": null,
   "id": "2020872a",
   "metadata": {},
   "outputs": [],
   "source": []
  }
 ],
 "metadata": {
  "kernelspec": {
   "display_name": "Python 3 (ipykernel)",
   "language": "python",
   "name": "python3"
  },
  "language_info": {
   "codemirror_mode": {
    "name": "ipython",
    "version": 3
   },
   "file_extension": ".py",
   "mimetype": "text/x-python",
   "name": "python",
   "nbconvert_exporter": "python",
   "pygments_lexer": "ipython3",
   "version": "3.9.12"
  }
 },
 "nbformat": 4,
 "nbformat_minor": 5
}
