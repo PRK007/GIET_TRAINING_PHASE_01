{
 "cells": [
  {
   "cell_type": "code",
   "execution_count": 1,
   "id": "80ba0f5c",
   "metadata": {},
   "outputs": [],
   "source": [
    "#List"
   ]
  },
  {
   "cell_type": "code",
   "execution_count": 2,
   "id": "11a73573",
   "metadata": {},
   "outputs": [
    {
     "name": "stdout",
     "output_type": "stream",
     "text": [
      "<class 'list'>\n"
     ]
    }
   ],
   "source": [
    "l=[]\n",
    "print(type(l))"
   ]
  },
  {
   "cell_type": "code",
   "execution_count": 1,
   "id": "8ec5f659",
   "metadata": {},
   "outputs": [
    {
     "name": "stdout",
     "output_type": "stream",
     "text": [
      " hi satish 678\n",
      "[8, 3]\n"
     ]
    }
   ],
   "source": [
    "# count of letters and digits\n",
    "\n",
    "n=input(' ')\n",
    "l=[]\n",
    "lcount=0\n",
    "dcount=0\n",
    "nl=list(n)\n",
    "for i in nl:\n",
    "    if i.isalpha():\n",
    "         lcount+=1\n",
    "    elif i.isdigit():\n",
    "        \n",
    "        dcount+=1\n",
    "    else:\n",
    "        continue\n",
    "l.append(lcount)\n",
    "l.append(dcount)\n",
    "print(l)"
   ]
  },
  {
   "cell_type": "code",
   "execution_count": 9,
   "id": "451d93b1",
   "metadata": {},
   "outputs": [
    {
     "name": "stdout",
     "output_type": "stream",
     "text": [
      "1 2 7 4 5 6 0 3\n",
      "6\n",
      "3\n"
     ]
    }
   ],
   "source": [
    "#find_pairs_of_numbers()\n",
    "\n",
    "def find_pairs_of_numbers(n,m):\n",
    "    count=0\n",
    "    for i in n:\n",
    "        index=n.index(i)+1\n",
    "        for j in range(index,len(n)):\n",
    "            if i+n[j]==m:\n",
    "                count+=1\n",
    "    return count            \n",
    "            \n",
    "            \n",
    "            \n",
    "n=[int(i) for i in input().split()]\n",
    "m=int(input())\n",
    "print(find_pairs_of_numbers(n,m))    \n"
   ]
  },
  {
   "cell_type": "code",
   "execution_count": 4,
   "id": "bbf0006c",
   "metadata": {},
   "outputs": [
    {
     "name": "stdout",
     "output_type": "stream",
     "text": [
      "a\n",
      "-1\n"
     ]
    }
   ],
   "source": [
    "#string length\n",
    "n=input()\n",
    "l=len(n)\n",
    "if l<2:\n",
    "    print(-1)\n",
    "elif l==2:\n",
    "    print(n[0:2]*2)\n",
    "else:\n",
    "    print(n[0:2]+n[-2:])"
   ]
  },
  {
   "cell_type": "code",
   "execution_count": 8,
   "id": "d866f427",
   "metadata": {},
   "outputs": [
    {
     "name": "stdout",
     "output_type": "stream",
     "text": [
      "ae\n",
      "ae\n"
     ]
    }
   ],
   "source": [
    "# n\n",
    "n=input()\n",
    "l=len(n)\n",
    "if l<3:\n",
    "    print(n)\n",
    "elif n[-3:]=='ing':\n",
    "    n=n+'ly'\n",
    "    print(n)\n",
    "else:\n",
    "    n=n+'ing'\n",
    "    print(n)\n",
    "    "
   ]
  },
  {
   "cell_type": "code",
   "execution_count": 42,
   "id": "dab62d46",
   "metadata": {},
   "outputs": [
    {
     "data": {
      "text/plain": [
       "True"
      ]
     },
     "execution_count": 42,
     "metadata": {},
     "output_type": "execute_result"
    }
   ],
   "source": [
    "#5 inputs [ 'he gud bot','hibjbceu','biscgo',\"kgiagou\"]\n",
    "\n",
    "\n",
    "def chckdouble(n):\n",
    "    m=str(n)\n",
    "    d=2*(n)\n",
    "    if(len(m)!=len(str(d)) and n:\n",
    "        return False\n",
    "    \n",
    "    for i in m:\n",
    "        if i not in str(d):\n",
    "            return False\n",
    "       \n",
    "    return True \n",
    "    \n",
    "    \n",
    "n=0\n",
    "chckdouble(n)\n",
    "    \n",
    "    "
   ]
  },
  {
   "cell_type": "code",
   "execution_count": 6,
   "id": "26715ba4",
   "metadata": {},
   "outputs": [
    {
     "name": "stdout",
     "output_type": "stream",
     "text": [
      "[0, 0, 1, 0, 0, 1, 0, 0, 0, 0, 0, 0, 1, 0, 0, 0, 0, 0, 2, 0, 2, 1, 0, 0, 1, 1]\n",
      "[2, 5, 12, 18, 18, 20, 20, 21, 24, 25]\n",
      "70.0\n"
     ]
    }
   ],
   "source": [
    "# question 11\n",
    "def find_more_than_avg(n):\n",
    "    c=0\n",
    "    l=list(n)\n",
    "    avg=(sum(l))/10\n",
    "    for i in l:\n",
    "        if i>avg:\n",
    "            c+=1\n",
    "    return (c/10)*100\n",
    "\n",
    "\n",
    "def generate(n):\n",
    "    freq=[]\n",
    "    for i in range(26):\n",
    "        c=0\n",
    "        for j in range(len(n)):\n",
    "            if i==n[j]:\n",
    "                c+=1\n",
    "        freq.append(c)\n",
    "    return freq  \n",
    "def sort(n):\n",
    "    return(sorted(n))\n",
    "\n",
    "        \n",
    "n=(12,18,25,24,2,5,18,20,20,21)\n",
    "print(generate(n))\n",
    "print(sort(n))\n",
    "print(find_more_than_avg(n))\n",
    "        \n",
    "                \n",
    "        "
   ]
  },
  {
   "cell_type": "code",
   "execution_count": null,
   "id": "fa510b28",
   "metadata": {},
   "outputs": [],
   "source": [
    "n=list(input())\n",
    "m={ 'merry':'god ','christmas':' jul','and':'och','happy':'gott','new':'nytt','year':'ar'}\n",
    "print(translate(m,n))\n",
    "def translate(m,n):\n",
    "    l=[]\n",
    "    for i in n:\n",
    "        \n",
    "        l.append(m[i])\n",
    "    return l  \n",
    "translate(m,n)\n",
    "    "
   ]
  },
  {
   "cell_type": "code",
   "execution_count": 4,
   "id": "1e5eb528",
   "metadata": {},
   "outputs": [
    {
     "name": "stdout",
     "output_type": "stream",
     "text": [
      "1\n",
      "3\n",
      "[1, 2, 3]\n",
      "[[1], [1, 2], [1, 2, 3], [2], [2, 3], [3]]\n",
      "4\n"
     ]
    }
   ],
   "source": [
    "n1=int(input())\n",
    "n2=int(input())\n",
    "l=[]\n",
    "for i in range(n1,n2+1):\n",
    "    l.append(i)\n",
    "print(l)    \n",
    "b=[]\n",
    "for i in range(len(l)):\n",
    "    for j in range(i,len(l)):\n",
    "        b.append(l[i:j+1])\n",
    "print(b)\n",
    "count=0\n",
    "for x in b:\n",
    "    if sum(x)%2!=0:\n",
    "        count+=1\n",
    "print(count)        "
   ]
  },
  {
   "cell_type": "code",
   "execution_count": null,
   "id": "d994465c",
   "metadata": {},
   "outputs": [],
   "source": []
  }
 ],
 "metadata": {
  "kernelspec": {
   "display_name": "Python 3 (ipykernel)",
   "language": "python",
   "name": "python3"
  },
  "language_info": {
   "codemirror_mode": {
    "name": "ipython",
    "version": 3
   },
   "file_extension": ".py",
   "mimetype": "text/x-python",
   "name": "python",
   "nbconvert_exporter": "python",
   "pygments_lexer": "ipython3",
   "version": "3.9.12"
  }
 },
 "nbformat": 4,
 "nbformat_minor": 5
}
